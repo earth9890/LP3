{
  "cells": [
    {
      "cell_type": "code",
      "execution_count": null,
      "id": "4d1679d7",
      "metadata": {
        "id": "4d1679d7"
      },
      "outputs": [],
      "source": [
        "import pandas as pd\n",
        "import numpy as np\n",
        "import seaborn as sns\n",
        "import matplotlib.pyplot as plt\n",
        "from sklearn.model_selection import train_test_split\n",
        "from sklearn.svm import SVC, LinearSVC\n",
        "from sklearn.neighbors import KNeighborsClassifier\n",
        "from sklearn.metrics import accuracy_score\n",
        "from sklearn import metrics\n",
        "from sklearn import preprocessing"
      ]
    },
    {
      "cell_type": "code",
      "execution_count": null,
      "id": "6e4e6362",
      "metadata": {
        "id": "6e4e6362"
      },
      "outputs": [],
      "source": [
        "df = pd.read_csv('/content/emails.csv')"
      ]
    },
    {
      "cell_type": "code",
      "execution_count": null,
      "id": "6f513266",
      "metadata": {
        "id": "6f513266",
        "outputId": "b8b0c76c-4858-4f8e-8dd7-ed2d6c017e7e"
      },
      "outputs": [
        {
          "data": {
            "text/plain": [
              "<bound method DataFrame.info of        Email No.  the  to  ect  and  for  of    a  you  hou  ...  connevey  \\\n",
              "0        Email 1    0   0    1    0    0   0    2    0    0  ...         0   \n",
              "1        Email 2    8  13   24    6    6   2  102    1   27  ...         0   \n",
              "2        Email 3    0   0    1    0    0   0    8    0    0  ...         0   \n",
              "3        Email 4    0   5   22    0    5   1   51    2   10  ...         0   \n",
              "4        Email 5    7   6   17    1    5   2   57    0    9  ...         0   \n",
              "...          ...  ...  ..  ...  ...  ...  ..  ...  ...  ...  ...       ...   \n",
              "5167  Email 5168    2   2    2    3    0   0   32    0    0  ...         0   \n",
              "5168  Email 5169   35  27   11    2    6   5  151    4    3  ...         0   \n",
              "5169  Email 5170    0   0    1    1    0   0   11    0    0  ...         0   \n",
              "5170  Email 5171    2   7    1    0    2   1   28    2    0  ...         0   \n",
              "5171  Email 5172   22  24    5    1    6   5  148    8    2  ...         0   \n",
              "\n",
              "      jay  valued  lay  infrastructure  military  allowing  ff  dry  \\\n",
              "0       0       0    0               0         0         0   0    0   \n",
              "1       0       0    0               0         0         0   1    0   \n",
              "2       0       0    0               0         0         0   0    0   \n",
              "3       0       0    0               0         0         0   0    0   \n",
              "4       0       0    0               0         0         0   1    0   \n",
              "...   ...     ...  ...             ...       ...       ...  ..  ...   \n",
              "5167    0       0    0               0         0         0   0    0   \n",
              "5168    0       0    0               0         0         0   1    0   \n",
              "5169    0       0    0               0         0         0   0    0   \n",
              "5170    0       0    0               0         0         0   1    0   \n",
              "5171    0       0    0               0         0         0   0    0   \n",
              "\n",
              "      Prediction  \n",
              "0              0  \n",
              "1              0  \n",
              "2              0  \n",
              "3              0  \n",
              "4              0  \n",
              "...          ...  \n",
              "5167           0  \n",
              "5168           0  \n",
              "5169           1  \n",
              "5170           1  \n",
              "5171           0  \n",
              "\n",
              "[5172 rows x 3002 columns]>"
            ]
          },
          "execution_count": 3,
          "metadata": {},
          "output_type": "execute_result"
        }
      ],
      "source": [
        "df.info"
      ]
    },
    {
      "cell_type": "code",
      "execution_count": null,
      "id": "9adbcdd6",
      "metadata": {
        "id": "9adbcdd6",
        "outputId": "75c52592-49f3-4902-99d0-c6cb12935bbe"
      },
      "outputs": [
        {
          "data": {
            "text/plain": [
              "Email No.     False\n",
              "the           False\n",
              "to            False\n",
              "ect           False\n",
              "and           False\n",
              "              ...  \n",
              "military      False\n",
              "allowing      False\n",
              "ff            False\n",
              "dry           False\n",
              "Prediction    False\n",
              "Length: 3002, dtype: bool"
            ]
          },
          "execution_count": 4,
          "metadata": {},
          "output_type": "execute_result"
        }
      ],
      "source": [
        "df.isnull().any()"
      ]
    },
    {
      "cell_type": "code",
      "execution_count": null,
      "id": "b811717d",
      "metadata": {
        "id": "b811717d",
        "outputId": "e70b2a94-57f2-452f-ce7d-564e2ef6baa3"
      },
      "outputs": [
        {
          "data": {
            "text/html": [
              "<div>\n",
              "<style scoped>\n",
              "    .dataframe tbody tr th:only-of-type {\n",
              "        vertical-align: middle;\n",
              "    }\n",
              "\n",
              "    .dataframe tbody tr th {\n",
              "        vertical-align: top;\n",
              "    }\n",
              "\n",
              "    .dataframe thead th {\n",
              "        text-align: right;\n",
              "    }\n",
              "</style>\n",
              "<table border=\"1\" class=\"dataframe\">\n",
              "  <thead>\n",
              "    <tr style=\"text-align: right;\">\n",
              "      <th></th>\n",
              "      <th>the</th>\n",
              "      <th>to</th>\n",
              "      <th>ect</th>\n",
              "      <th>and</th>\n",
              "      <th>for</th>\n",
              "      <th>of</th>\n",
              "      <th>a</th>\n",
              "      <th>you</th>\n",
              "      <th>hou</th>\n",
              "      <th>in</th>\n",
              "      <th>...</th>\n",
              "      <th>connevey</th>\n",
              "      <th>jay</th>\n",
              "      <th>valued</th>\n",
              "      <th>lay</th>\n",
              "      <th>infrastructure</th>\n",
              "      <th>military</th>\n",
              "      <th>allowing</th>\n",
              "      <th>ff</th>\n",
              "      <th>dry</th>\n",
              "      <th>Prediction</th>\n",
              "    </tr>\n",
              "  </thead>\n",
              "  <tbody>\n",
              "    <tr>\n",
              "      <th>0</th>\n",
              "      <td>0</td>\n",
              "      <td>0</td>\n",
              "      <td>1</td>\n",
              "      <td>0</td>\n",
              "      <td>0</td>\n",
              "      <td>0</td>\n",
              "      <td>2</td>\n",
              "      <td>0</td>\n",
              "      <td>0</td>\n",
              "      <td>0</td>\n",
              "      <td>...</td>\n",
              "      <td>0</td>\n",
              "      <td>0</td>\n",
              "      <td>0</td>\n",
              "      <td>0</td>\n",
              "      <td>0</td>\n",
              "      <td>0</td>\n",
              "      <td>0</td>\n",
              "      <td>0</td>\n",
              "      <td>0</td>\n",
              "      <td>0</td>\n",
              "    </tr>\n",
              "    <tr>\n",
              "      <th>1</th>\n",
              "      <td>8</td>\n",
              "      <td>13</td>\n",
              "      <td>24</td>\n",
              "      <td>6</td>\n",
              "      <td>6</td>\n",
              "      <td>2</td>\n",
              "      <td>102</td>\n",
              "      <td>1</td>\n",
              "      <td>27</td>\n",
              "      <td>18</td>\n",
              "      <td>...</td>\n",
              "      <td>0</td>\n",
              "      <td>0</td>\n",
              "      <td>0</td>\n",
              "      <td>0</td>\n",
              "      <td>0</td>\n",
              "      <td>0</td>\n",
              "      <td>0</td>\n",
              "      <td>1</td>\n",
              "      <td>0</td>\n",
              "      <td>0</td>\n",
              "    </tr>\n",
              "    <tr>\n",
              "      <th>2</th>\n",
              "      <td>0</td>\n",
              "      <td>0</td>\n",
              "      <td>1</td>\n",
              "      <td>0</td>\n",
              "      <td>0</td>\n",
              "      <td>0</td>\n",
              "      <td>8</td>\n",
              "      <td>0</td>\n",
              "      <td>0</td>\n",
              "      <td>4</td>\n",
              "      <td>...</td>\n",
              "      <td>0</td>\n",
              "      <td>0</td>\n",
              "      <td>0</td>\n",
              "      <td>0</td>\n",
              "      <td>0</td>\n",
              "      <td>0</td>\n",
              "      <td>0</td>\n",
              "      <td>0</td>\n",
              "      <td>0</td>\n",
              "      <td>0</td>\n",
              "    </tr>\n",
              "    <tr>\n",
              "      <th>3</th>\n",
              "      <td>0</td>\n",
              "      <td>5</td>\n",
              "      <td>22</td>\n",
              "      <td>0</td>\n",
              "      <td>5</td>\n",
              "      <td>1</td>\n",
              "      <td>51</td>\n",
              "      <td>2</td>\n",
              "      <td>10</td>\n",
              "      <td>1</td>\n",
              "      <td>...</td>\n",
              "      <td>0</td>\n",
              "      <td>0</td>\n",
              "      <td>0</td>\n",
              "      <td>0</td>\n",
              "      <td>0</td>\n",
              "      <td>0</td>\n",
              "      <td>0</td>\n",
              "      <td>0</td>\n",
              "      <td>0</td>\n",
              "      <td>0</td>\n",
              "    </tr>\n",
              "    <tr>\n",
              "      <th>4</th>\n",
              "      <td>7</td>\n",
              "      <td>6</td>\n",
              "      <td>17</td>\n",
              "      <td>1</td>\n",
              "      <td>5</td>\n",
              "      <td>2</td>\n",
              "      <td>57</td>\n",
              "      <td>0</td>\n",
              "      <td>9</td>\n",
              "      <td>3</td>\n",
              "      <td>...</td>\n",
              "      <td>0</td>\n",
              "      <td>0</td>\n",
              "      <td>0</td>\n",
              "      <td>0</td>\n",
              "      <td>0</td>\n",
              "      <td>0</td>\n",
              "      <td>0</td>\n",
              "      <td>1</td>\n",
              "      <td>0</td>\n",
              "      <td>0</td>\n",
              "    </tr>\n",
              "    <tr>\n",
              "      <th>...</th>\n",
              "      <td>...</td>\n",
              "      <td>...</td>\n",
              "      <td>...</td>\n",
              "      <td>...</td>\n",
              "      <td>...</td>\n",
              "      <td>...</td>\n",
              "      <td>...</td>\n",
              "      <td>...</td>\n",
              "      <td>...</td>\n",
              "      <td>...</td>\n",
              "      <td>...</td>\n",
              "      <td>...</td>\n",
              "      <td>...</td>\n",
              "      <td>...</td>\n",
              "      <td>...</td>\n",
              "      <td>...</td>\n",
              "      <td>...</td>\n",
              "      <td>...</td>\n",
              "      <td>...</td>\n",
              "      <td>...</td>\n",
              "      <td>...</td>\n",
              "    </tr>\n",
              "    <tr>\n",
              "      <th>5167</th>\n",
              "      <td>2</td>\n",
              "      <td>2</td>\n",
              "      <td>2</td>\n",
              "      <td>3</td>\n",
              "      <td>0</td>\n",
              "      <td>0</td>\n",
              "      <td>32</td>\n",
              "      <td>0</td>\n",
              "      <td>0</td>\n",
              "      <td>5</td>\n",
              "      <td>...</td>\n",
              "      <td>0</td>\n",
              "      <td>0</td>\n",
              "      <td>0</td>\n",
              "      <td>0</td>\n",
              "      <td>0</td>\n",
              "      <td>0</td>\n",
              "      <td>0</td>\n",
              "      <td>0</td>\n",
              "      <td>0</td>\n",
              "      <td>0</td>\n",
              "    </tr>\n",
              "    <tr>\n",
              "      <th>5168</th>\n",
              "      <td>35</td>\n",
              "      <td>27</td>\n",
              "      <td>11</td>\n",
              "      <td>2</td>\n",
              "      <td>6</td>\n",
              "      <td>5</td>\n",
              "      <td>151</td>\n",
              "      <td>4</td>\n",
              "      <td>3</td>\n",
              "      <td>23</td>\n",
              "      <td>...</td>\n",
              "      <td>0</td>\n",
              "      <td>0</td>\n",
              "      <td>0</td>\n",
              "      <td>0</td>\n",
              "      <td>0</td>\n",
              "      <td>0</td>\n",
              "      <td>0</td>\n",
              "      <td>1</td>\n",
              "      <td>0</td>\n",
              "      <td>0</td>\n",
              "    </tr>\n",
              "    <tr>\n",
              "      <th>5169</th>\n",
              "      <td>0</td>\n",
              "      <td>0</td>\n",
              "      <td>1</td>\n",
              "      <td>1</td>\n",
              "      <td>0</td>\n",
              "      <td>0</td>\n",
              "      <td>11</td>\n",
              "      <td>0</td>\n",
              "      <td>0</td>\n",
              "      <td>1</td>\n",
              "      <td>...</td>\n",
              "      <td>0</td>\n",
              "      <td>0</td>\n",
              "      <td>0</td>\n",
              "      <td>0</td>\n",
              "      <td>0</td>\n",
              "      <td>0</td>\n",
              "      <td>0</td>\n",
              "      <td>0</td>\n",
              "      <td>0</td>\n",
              "      <td>1</td>\n",
              "    </tr>\n",
              "    <tr>\n",
              "      <th>5170</th>\n",
              "      <td>2</td>\n",
              "      <td>7</td>\n",
              "      <td>1</td>\n",
              "      <td>0</td>\n",
              "      <td>2</td>\n",
              "      <td>1</td>\n",
              "      <td>28</td>\n",
              "      <td>2</td>\n",
              "      <td>0</td>\n",
              "      <td>8</td>\n",
              "      <td>...</td>\n",
              "      <td>0</td>\n",
              "      <td>0</td>\n",
              "      <td>0</td>\n",
              "      <td>0</td>\n",
              "      <td>0</td>\n",
              "      <td>0</td>\n",
              "      <td>0</td>\n",
              "      <td>1</td>\n",
              "      <td>0</td>\n",
              "      <td>1</td>\n",
              "    </tr>\n",
              "    <tr>\n",
              "      <th>5171</th>\n",
              "      <td>22</td>\n",
              "      <td>24</td>\n",
              "      <td>5</td>\n",
              "      <td>1</td>\n",
              "      <td>6</td>\n",
              "      <td>5</td>\n",
              "      <td>148</td>\n",
              "      <td>8</td>\n",
              "      <td>2</td>\n",
              "      <td>23</td>\n",
              "      <td>...</td>\n",
              "      <td>0</td>\n",
              "      <td>0</td>\n",
              "      <td>0</td>\n",
              "      <td>0</td>\n",
              "      <td>0</td>\n",
              "      <td>0</td>\n",
              "      <td>0</td>\n",
              "      <td>0</td>\n",
              "      <td>0</td>\n",
              "      <td>0</td>\n",
              "    </tr>\n",
              "  </tbody>\n",
              "</table>\n",
              "<p>5172 rows × 3001 columns</p>\n",
              "</div>"
            ],
            "text/plain": [
              "      the  to  ect  and  for  of    a  you  hou  in  ...  connevey  jay  \\\n",
              "0       0   0    1    0    0   0    2    0    0   0  ...         0    0   \n",
              "1       8  13   24    6    6   2  102    1   27  18  ...         0    0   \n",
              "2       0   0    1    0    0   0    8    0    0   4  ...         0    0   \n",
              "3       0   5   22    0    5   1   51    2   10   1  ...         0    0   \n",
              "4       7   6   17    1    5   2   57    0    9   3  ...         0    0   \n",
              "...   ...  ..  ...  ...  ...  ..  ...  ...  ...  ..  ...       ...  ...   \n",
              "5167    2   2    2    3    0   0   32    0    0   5  ...         0    0   \n",
              "5168   35  27   11    2    6   5  151    4    3  23  ...         0    0   \n",
              "5169    0   0    1    1    0   0   11    0    0   1  ...         0    0   \n",
              "5170    2   7    1    0    2   1   28    2    0   8  ...         0    0   \n",
              "5171   22  24    5    1    6   5  148    8    2  23  ...         0    0   \n",
              "\n",
              "      valued  lay  infrastructure  military  allowing  ff  dry  Prediction  \n",
              "0          0    0               0         0         0   0    0           0  \n",
              "1          0    0               0         0         0   1    0           0  \n",
              "2          0    0               0         0         0   0    0           0  \n",
              "3          0    0               0         0         0   0    0           0  \n",
              "4          0    0               0         0         0   1    0           0  \n",
              "...      ...  ...             ...       ...       ...  ..  ...         ...  \n",
              "5167       0    0               0         0         0   0    0           0  \n",
              "5168       0    0               0         0         0   1    0           0  \n",
              "5169       0    0               0         0         0   0    0           1  \n",
              "5170       0    0               0         0         0   1    0           1  \n",
              "5171       0    0               0         0         0   0    0           0  \n",
              "\n",
              "[5172 rows x 3001 columns]"
            ]
          },
          "execution_count": 5,
          "metadata": {},
          "output_type": "execute_result"
        }
      ],
      "source": [
        "df.drop(columns='Email No.', inplace=True)\n",
        "df"
      ]
    },
    {
      "cell_type": "code",
      "execution_count": null,
      "id": "eb74263d",
      "metadata": {
        "id": "eb74263d",
        "outputId": "d168eeb0-1fdb-4651-c693-9f08e2aa05e6"
      },
      "outputs": [
        {
          "data": {
            "text/plain": [
              "the           int64\n",
              "to            int64\n",
              "ect           int64\n",
              "and           int64\n",
              "for           int64\n",
              "              ...  \n",
              "military      int64\n",
              "allowing      int64\n",
              "ff            int64\n",
              "dry           int64\n",
              "Prediction    int64\n",
              "Length: 3001, dtype: object"
            ]
          },
          "execution_count": 6,
          "metadata": {},
          "output_type": "execute_result"
        }
      ],
      "source": [
        "df.dtypes"
      ]
    },
    {
      "cell_type": "code",
      "execution_count": null,
      "id": "5e296477",
      "metadata": {
        "id": "5e296477",
        "outputId": "5e0ec3f6-ac7b-413f-8936-4e7c9b230c6c"
      },
      "outputs": [
        {
          "data": {
            "text/plain": [
              "Index(['the', 'to', 'ect', 'and', 'for', 'of', 'a', 'you', 'hou', 'in',\n",
              "       ...\n",
              "       'connevey', 'jay', 'valued', 'lay', 'infrastructure', 'military',\n",
              "       'allowing', 'ff', 'dry', 'Prediction'],\n",
              "      dtype='object', length=3001)"
            ]
          },
          "execution_count": 7,
          "metadata": {},
          "output_type": "execute_result"
        }
      ],
      "source": [
        "df.columns"
      ]
    },
    {
      "cell_type": "code",
      "execution_count": null,
      "id": "a2e99605",
      "metadata": {
        "id": "a2e99605",
        "outputId": "a6690bf7-c5d1-4d82-b49f-4f6f1e377afa"
      },
      "outputs": [
        {
          "data": {
            "text/plain": [
              "array([0, 1], dtype=int64)"
            ]
          },
          "execution_count": 8,
          "metadata": {},
          "output_type": "execute_result"
        }
      ],
      "source": [
        "df.Prediction.unique()"
      ]
    },
    {
      "cell_type": "code",
      "execution_count": null,
      "id": "a03320b3",
      "metadata": {
        "id": "a03320b3",
        "outputId": "9565e3ba-dc87-404a-a2c0-974273b8b8e7"
      },
      "outputs": [
        {
          "data": {
            "text/plain": [
              "0       Not spam\n",
              "1       Not spam\n",
              "2       Not spam\n",
              "3       Not spam\n",
              "4       Not spam\n",
              "          ...   \n",
              "5167    Not spam\n",
              "5168    Not spam\n",
              "5169        Spam\n",
              "5170        Spam\n",
              "5171    Not spam\n",
              "Name: Prediction, Length: 5172, dtype: object"
            ]
          },
          "execution_count": 9,
          "metadata": {},
          "output_type": "execute_result"
        }
      ],
      "source": [
        "df['Prediction'] = df['Prediction'].replace({0:'Not spam', 1:'Spam'})\n",
        "df['Prediction']"
      ]
    },
    {
      "cell_type": "markdown",
      "id": "31f165b3",
      "metadata": {
        "id": "31f165b3"
      },
      "source": [
        "# Machine Learning models\n",
        "The following 5 models are used:\n",
        "\n",
        "1. K-Nearest Neighbors\n",
        "2. Linear SVM\n",
        "3. Polynomial SVM\n",
        "4. RBF SVM\n",
        "5. Sigmoid SVM"
      ]
    },
    {
      "cell_type": "code",
      "execution_count": null,
      "id": "4e598961",
      "metadata": {
        "id": "4e598961",
        "outputId": "ff5eb479-baf1-430a-df85-a6ee3af16746"
      },
      "outputs": [
        {
          "data": {
            "text/plain": [
              "Index(['the', 'to', 'ect', 'and', 'for', 'of', 'a', 'you', 'hou', 'in',\n",
              "       ...\n",
              "       'enhancements', 'connevey', 'jay', 'valued', 'lay', 'infrastructure',\n",
              "       'military', 'allowing', 'ff', 'dry'],\n",
              "      dtype='object', length=3000)"
            ]
          },
          "execution_count": 10,
          "metadata": {},
          "output_type": "execute_result"
        }
      ],
      "source": [
        "#KNN\n",
        "\n",
        "X = df.drop(columns='Prediction',axis = 1)\n",
        "Y = df['Prediction']\n",
        "\n",
        "X.columns"
      ]
    },
    {
      "cell_type": "code",
      "execution_count": null,
      "id": "f8af1dae",
      "metadata": {
        "id": "f8af1dae",
        "outputId": "d2469f16-c0e5-403f-e929-ed39aab5aa86"
      },
      "outputs": [
        {
          "data": {
            "text/plain": [
              "0    Not spam\n",
              "1    Not spam\n",
              "2    Not spam\n",
              "3    Not spam\n",
              "4    Not spam\n",
              "Name: Prediction, dtype: object"
            ]
          },
          "execution_count": 11,
          "metadata": {},
          "output_type": "execute_result"
        }
      ],
      "source": [
        "Y.head()"
      ]
    },
    {
      "cell_type": "code",
      "execution_count": null,
      "id": "f6541f44",
      "metadata": {
        "id": "f6541f44"
      },
      "outputs": [],
      "source": [
        "x_train, x_test, y_train, y_test = train_test_split(X, Y, test_size=0.2, random_state=1)"
      ]
    },
    {
      "cell_type": "code",
      "execution_count": null,
      "id": "b25e7ea9",
      "metadata": {
        "id": "b25e7ea9"
      },
      "outputs": [],
      "source": [
        "KN = KNeighborsClassifier\n",
        "knn = KN(n_neighbors=7)\n",
        "knn.fit(x_train, y_train)\n",
        "y_pred = knn.predict(x_test)"
      ]
    },
    {
      "cell_type": "code",
      "execution_count": null,
      "id": "b0063d9a",
      "metadata": {
        "id": "b0063d9a",
        "outputId": "bbf51376-88e4-4268-99e0-44f975ec92b5"
      },
      "outputs": [
        {
          "name": "stdout",
          "output_type": "stream",
          "text": [
            "Prediction: \n",
            "\n",
            "['Not spam' 'Spam' 'Not spam' ... 'Not spam' 'Not spam' 'Not spam']\n"
          ]
        }
      ],
      "source": [
        "print(\"Prediction: \\n\")\n",
        "print(y_pred)"
      ]
    },
    {
      "cell_type": "code",
      "execution_count": null,
      "id": "9b40687f",
      "metadata": {
        "id": "9b40687f",
        "outputId": "05708fbd-d243-428b-8be0-15b0b3fcaa2c"
      },
      "outputs": [
        {
          "name": "stdout",
          "output_type": "stream",
          "text": [
            "KNN accuracy:  0.8714975845410629\n"
          ]
        }
      ],
      "source": [
        "# Accuracy of KNN\n",
        "\n",
        "M = metrics.accuracy_score(y_test,y_pred)\n",
        "print(\"KNN accuracy: \", M)"
      ]
    },
    {
      "cell_type": "code",
      "execution_count": null,
      "id": "3a11b861",
      "metadata": {
        "id": "3a11b861",
        "outputId": "df8765d0-954a-457d-d908-9bcaac0d1206"
      },
      "outputs": [
        {
          "name": "stdout",
          "output_type": "stream",
          "text": [
            "Confusion matrix: \n",
            " [[635  84]\n",
            " [ 49 267]]\n"
          ]
        }
      ],
      "source": [
        "#confusion matrix\n",
        "cm = metrics.confusion_matrix(y_test,y_pred)\n",
        "print(\"Confusion matrix: \\n\", cm)"
      ]
    },
    {
      "cell_type": "code",
      "execution_count": null,
      "id": "83c9616c",
      "metadata": {
        "id": "83c9616c",
        "outputId": "56d4428b-8aed-456f-d101-254e0192b235"
      },
      "outputs": [
        {
          "name": "stdout",
          "output_type": "stream",
          "text": [
            "Accuracy Score for SVC :  0.9014492753623189\n"
          ]
        }
      ],
      "source": [
        "#SVM Classifier\n",
        "\n",
        "svc = SVC(C=1.0,kernel='rbf',gamma='auto')\n",
        "# C here is the regularization parameter. Here, L2 penalty is used(default). It is the inverse of the strength of regularization.\n",
        "# As C increases, model overfits.\n",
        "# Kernel here is the radial basis function kernel.\n",
        "# gamma (only used for rbf kernel) : As gamma increases, model overfits.\n",
        "svc.fit(x_train, y_train)\n",
        "y_pred = svc.predict(x_test)\n",
        "print(\"Accuracy Score for SVC : \", accuracy_score(y_pred,y_test))"
      ]
    },
    {
      "cell_type": "code",
      "execution_count": null,
      "id": "9e8ae65c",
      "metadata": {
        "id": "9e8ae65c",
        "outputId": "2c0d6ddf-e02d-46a0-c11a-14b50a4a35d4"
      },
      "outputs": [
        {
          "name": "stdout",
          "output_type": "stream",
          "text": [
            "Confusion matrix: \n",
            " [[690  29]\n",
            " [ 73 243]]\n"
          ]
        }
      ],
      "source": [
        "#confusion matrix\n",
        "cm = metrics.confusion_matrix(y_test,y_pred)\n",
        "print(\"Confusion matrix: \\n\", cm)"
      ]
    },
    {
      "cell_type": "markdown",
      "source": [
        "# **# Explanation:**\n",
        "\n",
        "\n",
        "# **bold text**\n",
        " Certainly! Let's break down the code in detail, explaining each line and the overall process for both the K-Nearest Neighbors (KNN) and Support Vector Machine (SVM) classifiers.\n",
        "\n",
        "### K-Nearest Neighbors (KNN) Classifier:\n",
        "\n",
        "```python\n",
        "X = df.drop(columns='Prediction', axis=1)\n",
        "Y = df['Prediction']\n",
        "```\n",
        "\n",
        "- **Explanation:** Here, `X` is created to represent the features (independent variables), and `Y` is the target variable (dependent variable). `X` contains all the columns from the DataFrame `df` except the 'Prediction' column, and `Y` contains the 'Prediction' column.\n",
        "\n",
        "```python\n",
        "x_train, x_test, y_train, y_test = train_test_split(X, Y, test_size=0.2, random_state=1)\n",
        "```\n",
        "\n",
        "- **Explanation:** The dataset is split into training and testing sets using the `train_test_split` function from scikit-learn. 80% of the data is used for training (`x_train`, `y_train`), and 20% is used for testing (`x_test`, `y_test`). The `random_state` parameter ensures reproducibility.\n",
        "\n",
        "```python\n",
        "KN = KNeighborsClassifier\n",
        "knn = KN(n_neighbors=7)\n",
        "```\n",
        "\n",
        "- **Explanation:** The K-Nearest Neighbors classifier is imported (`KNeighborsClassifier`), and an instance of the KNN model is created with `n_neighbors` set to 7. This means it considers the 7 nearest neighbors for classification.\n",
        "\n",
        "```python\n",
        "knn.fit(x_train, y_train)\n",
        "y_pred = knn.predict(x_test)\n",
        "```\n",
        "\n",
        "- **Explanation:** The KNN model is trained on the training data (`x_train`, `y_train`) using the `fit` method. Then, predictions are made on the testing data (`x_test`) using the `predict` method.\n",
        "\n",
        "```python\n",
        "M = metrics.accuracy_score(y_test, y_pred)\n",
        "print(\"KNN accuracy: \", M)\n",
        "```\n",
        "\n",
        "- **Explanation:** The accuracy of the KNN model is calculated using the `accuracy_score` function from scikit-learn. Accuracy is the ratio of correctly predicted instances to the total instances in the testing set. The result is printed.\n",
        "\n",
        "```python\n",
        "cm = metrics.confusion_matrix(y_test, y_pred)\n",
        "print(\"Confusion matrix: \\n\", cm)\n",
        "```\n",
        "\n",
        "- **Explanation:** The confusion matrix is calculated using the `confusion_matrix` function from scikit-learn. A confusion matrix provides information about the performance of a classification algorithm, showing the number of true positive, true negative, false positive, and false negative predictions.\n",
        "\n",
        "### Support Vector Machine (SVM) Classifier:\n",
        "\n",
        "```python\n",
        "svc = SVC(C=1.0, kernel='rbf', gamma='auto')\n",
        "```\n",
        "\n",
        "- **Explanation:** The Support Vector Machine classifier is imported (`SVC`). An instance of the SVM model is created with parameters like `C` (regularization parameter), `kernel` (radial basis function kernel), and `gamma` (kernel coefficient).\n",
        "\n",
        "```python\n",
        "svc.fit(x_train, y_train)\n",
        "y_pred = svc.predict(x_test)\n",
        "```\n",
        "\n",
        "- **Explanation:** The SVM model is trained on the training data (`x_train`, `y_train`) using the `fit` method. Predictions are then made on the testing data (`x_test`) using the `predict` method.\n",
        "\n",
        "```python\n",
        "print(\"Accuracy Score for SVC : \", accuracy_score(y_pred, y_test))\n",
        "```\n",
        "\n",
        "- **Explanation:** The accuracy of the SVM model is calculated using the `accuracy_score` function from scikit-learn and printed. Accuracy is the ratio of correctly predicted instances to the total instances in the testing set.\n",
        "\n",
        "```python\n",
        "cm = metrics.confusion_matrix(y_test, y_pred)\n",
        "print(\"Confusion matrix: \\n\", cm)\n",
        "```\n",
        "\n",
        "- **Explanation:** Similar to the KNN section, the confusion matrix is calculated using the `confusion_matrix` function from scikit-learn. It provides insights into the performance of the SVM classifier.\n",
        "\n",
        "### Summary:\n",
        "\n",
        "- Both KNN and SVM are supervised learning algorithms used for classification tasks.\n",
        "- The code demonstrates the typical workflow of loading data, splitting it into training and testing sets, training a model, making predictions, and evaluating the model's performance using accuracy and confusion matrix metrics.            Certainly! Let's go through the details, examples, and applications of each of the mentioned models:\n",
        "\n",
        "### 1. K-Nearest Neighbors (KNN):\n",
        "\n",
        "**Explanation:**\n",
        "- **Model Overview:** K-Nearest Neighbors is a simple, instance-based learning algorithm for classification and regression. It classifies a data point based on the majority class of its k-nearest neighbors in the feature space.\n",
        "\n",
        "**Example:**\n",
        "- **Scenario:** Predicting whether an email is spam or not based on its word frequency.\n",
        "- **Explanation:** If a new email has word frequencies similar to those of previously labeled spam emails, it is likely classified as spam.\n",
        "\n",
        "**Applications:**\n",
        "- **Recommendation Systems:** Recommending products or content based on user behavior.\n",
        "- **Image Recognition:** Classifying an image based on similarities to other images in a dataset.\n",
        "- **Anomaly Detection:** Identifying outliers or unusual patterns in data.\n",
        "\n",
        "### 2. Linear Support Vector Machine (Linear SVM):\n",
        "\n",
        "**Explanation:**\n",
        "- **Model Overview:** Linear Support Vector Machine is a linear classifier that finds the hyperplane that best separates classes in the feature space. It aims to maximize the margin between classes.\n",
        "\n",
        "**Example:**\n",
        "- **Scenario:** Classifying emails as spam or not spam based on features like word frequency.\n",
        "- **Explanation:** The hyperplane separates the feature space into regions for spam and non-spam emails.\n",
        "\n",
        "**Applications:**\n",
        "- **Text Classification:** Sentiment analysis, spam detection, and document categorization.\n",
        "- **Image Classification:** Identifying objects or patterns in images.\n",
        "- **Bioinformatics:** Classifying genes or proteins based on features.\n",
        "\n",
        "### 3. Polynomial Support Vector Machine (Polynomial SVM):\n",
        "\n",
        "**Explanation:**\n",
        "- **Model Overview:** Polynomial Support Vector Machine is an extension of linear SVM that allows for non-linear decision boundaries by introducing polynomial kernels.\n",
        "\n",
        "**Example:**\n",
        "- **Scenario:** Classifying data points with a circular decision boundary.\n",
        "- **Explanation:** The polynomial kernel introduces non-linearity, enabling the model to capture circular or curved patterns.\n",
        "\n",
        "**Applications:**\n",
        "- **Speech Recognition:** Identifying spoken words or phrases.\n",
        "- **Computer Vision:** Recognizing objects in images with non-linear shapes.\n",
        "- **Biomedical Engineering:** Classifying biological data with complex patterns.\n",
        "\n",
        "### 4. Radial Basis Function (RBF) Support Vector Machine (SVM):\n",
        "\n",
        "**Explanation:**\n",
        "- **Model Overview:** RBF Support Vector Machine uses the radial basis function (Gaussian) kernel to handle complex, non-linear relationships in the feature space.\n",
        "\n",
        "**Example:**\n",
        "- **Scenario:** Separating data points in a dataset with intertwined classes.\n",
        "- **Explanation:** The RBF kernel allows for more flexible decision boundaries, accommodating intricate relationships.\n",
        "\n",
        "**Applications:**\n",
        "- **Finance:** Predicting stock prices based on historical data.\n",
        "- **Healthcare:** Diagnosing diseases based on patient data.\n",
        "- **Chemistry:** Predicting molecular properties.\n",
        "\n",
        "### 5. Sigmoid Support Vector Machine (Sigmoid SVM):\n",
        "\n",
        "**Explanation:**\n",
        "- **Model Overview:** Sigmoid Support Vector Machine uses the sigmoid function as a kernel to transform the data, enabling it to handle non-linear relationships.\n",
        "\n",
        "**Example:**\n",
        "- **Scenario:** Classifying data with a non-linear decision boundary.\n",
        "- **Explanation:** The sigmoid kernel applies a logistic function to the input features, making it suitable for capturing complex patterns.\n",
        "\n",
        "**Applications:**\n",
        "- **Neural Network Activation Functions:** Sigmoid functions are commonly used as activation functions in neural networks.\n",
        "- **Financial Fraud Detection:** Identifying fraudulent transactions based on patterns in financial data.\n",
        "- **Bioinformatics:** Predicting biological phenomena based on complex data.\n",
        "\n",
        "### Summary:\n",
        "\n",
        "- **KNN** is a simple, versatile algorithm suitable for various tasks.\n",
        "- **Linear SVM** is effective for linearly separable data.\n",
        "- **Polynomial SVM** introduces non-linearity with polynomial kernels.\n",
        "- **RBF SVM** handles complex relationships with Gaussian kernels.\n",
        "- **Sigmoid SVM** transforms data using sigmoid functions for non-linear patterns.\n",
        "\n",
        "Each model has its strengths and is suited for specific types of data and tasks. The choice depends on the nature of the problem and the characteristics of the dataset.             The confusion matrix is a table that is often used to evaluate the performance of a classification algorithm. It summarizes the results of a classification task, showing the number of true positive (TP), true negative (TN), false positive (FP), and false negative (FN) predictions. The confusion matrix is particularly useful for understanding the types and quantities of errors made by a classifier.\n",
        "\n",
        "Here's how to interpret the confusion matrix you provided:\n",
        "\n",
        "```plaintext\n",
        "            Actual Positive     Actual Negative\n",
        "Predicted Positive     690 (True Positive)      29 (False Positive)\n",
        "Predicted Negative     73 (False Negative)      243 (True Negative)\n",
        "```\n",
        "\n",
        "- **True Positive (TP):** The number of instances correctly predicted as positive (in this case, 'Spam').\n",
        "- **True Negative (TN):** The number of instances correctly predicted as negative (in this case, 'Not Spam').\n",
        "- **False Positive (FP):** The number of instances incorrectly predicted as positive when they are actually negative (Type I error).\n",
        "- **False Negative (FN):** The number of instances incorrectly predicted as negative when they are actually positive (Type II error).\n",
        "\n",
        "In the provided confusion matrix:\n",
        "\n",
        "- There are 690 instances correctly predicted as 'Spam' (True Positives).\n",
        "- There are 243 instances correctly predicted as 'Not Spam' (True Negatives).\n",
        "- There are 29 instances incorrectly predicted as 'Spam' when they are actually 'Not Spam' (False Positives).\n",
        "- There are 73 instances incorrectly predicted as 'Not Spam' when they are actually 'Spam' (False Negatives).\n",
        "\n",
        "These values can be used to calculate various metrics such as accuracy, precision, recall, and F1-score, providing a more comprehensive evaluation of the model's performance beyond just accuracy."
      ],
      "metadata": {
        "id": "VnFmdg-VXicy"
      },
      "id": "VnFmdg-VXicy"
    },
    {
      "cell_type": "code",
      "source": [],
      "metadata": {
        "id": "Gw94GpsXb59A"
      },
      "id": "Gw94GpsXb59A",
      "execution_count": null,
      "outputs": []
    }
  ],
  "metadata": {
    "kernelspec": {
      "display_name": "Python 3 (ipykernel)",
      "language": "python",
      "name": "python3"
    },
    "language_info": {
      "codemirror_mode": {
        "name": "ipython",
        "version": 3
      },
      "file_extension": ".py",
      "mimetype": "text/x-python",
      "name": "python",
      "nbconvert_exporter": "python",
      "pygments_lexer": "ipython3",
      "version": "3.9.0"
    },
    "colab": {
      "provenance": []
    }
  },
  "nbformat": 4,
  "nbformat_minor": 5
}